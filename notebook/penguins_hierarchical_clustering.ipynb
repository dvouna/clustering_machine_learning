{
 "cells": [
  {
   "cell_type": "markdown",
   "id": "589fe37e-e764-4d71-9c3c-93c8b7acee79",
   "metadata": {},
   "source": [
    "![Alt text](https://imgur.com/orZWHly.png=80)\n",
    "source: @allison_horst https://github.com/allisonhorst/penguins"
   ]
  },
  {
   "cell_type": "markdown",
   "id": "d3fb84f2-0eda-4b73-95c0-5364f83e25bf",
   "metadata": {},
   "source": [
    "You have been asked to support a team of researchers who have been collecting data about penguins in Antartica! The data is available in csv-Format as `penguins.csv`\n",
    "\n",
    "**Origin of this data** : Data were collected and made available by Dr. Kristen Gorman and the Palmer Station, Antarctica LTER, a member of the Long Term Ecological Research Network.\n",
    "\n",
    "**The dataset consists of 5 columns.**\n",
    "\n",
    "Column | Description\n",
    "--- | ---\n",
    "culmen_length_mm | culmen length (mm)\n",
    "culmen_depth_mm | culmen depth (mm)\n",
    "flipper_length_mm | flipper length (mm)\n",
    "body_mass_g | body mass (g)\n",
    "sex | penguin sex\n",
    "\n",
    "Unfortunately, they have not been able to record the species of penguin, but they know that there are **at least three** species that are native to the region: **Adelie**, **Chinstrap**, and **Gentoo**.  Your task is to apply your data science skills to help them identify groups in the dataset!"
   ]
  },
  {
   "cell_type": "code",
   "execution_count": 10,
   "id": "57295d13-5753-4f8d-aa96-cd6815f7cbd9",
   "metadata": {
    "executionCancelledAt": null,
    "executionTime": 49,
    "lastExecutedAt": 1720308226319,
    "lastExecutedByKernel": "884982a2-301f-4ff9-bd3f-a02033848c69",
    "lastScheduledRunId": null,
    "lastSuccessfullyExecutedCode": "# Import Required Packages\nimport pandas as pd\nimport matplotlib.pyplot as plt\nfrom sklearn.cluster import KMeans\nfrom sklearn.preprocessing import StandardScaler\n\n# Loading and examining the dataset\npenguins_df = pd.read_csv(\"penguins.csv\")\npenguins_df.head()",
    "outputsMetadata": {
     "0": {
      "height": 50,
      "tableState": {
       "customFilter": {
        "const": {
         "type": "boolean",
         "valid": true,
         "value": true
        },
        "id": "8ee25dc4-212a-412c-a547-53f5e4f06732",
        "nodeType": "const"
       },
       "quickFilterText": ""
      },
      "type": "dataFrame"
     }
    }
   },
   "outputs": [],
   "source": [
    "# Import Required Packages\n",
    "import pandas as pd\n",
    "import matplotlib.pyplot as plt\n",
    "from sklearn.cluster import KMeans\n",
    "from sklearn.preprocessing import StandardScaler\n",
    "import seaborn as sns \n",
    "from scipy.cluster.hierarchy import linkage, fcluster, dendrogram \n",
    "from scipy.cluster.vq import whiten\n"
   ]
  },
  {
   "cell_type": "code",
   "execution_count": 3,
   "id": "ccc3e6dc",
   "metadata": {},
   "outputs": [
    {
     "data": {
      "text/html": [
       "<div>\n",
       "<style scoped>\n",
       "    .dataframe tbody tr th:only-of-type {\n",
       "        vertical-align: middle;\n",
       "    }\n",
       "\n",
       "    .dataframe tbody tr th {\n",
       "        vertical-align: top;\n",
       "    }\n",
       "\n",
       "    .dataframe thead th {\n",
       "        text-align: right;\n",
       "    }\n",
       "</style>\n",
       "<table border=\"1\" class=\"dataframe\">\n",
       "  <thead>\n",
       "    <tr style=\"text-align: right;\">\n",
       "      <th></th>\n",
       "      <th>culmen_length_mm</th>\n",
       "      <th>culmen_depth_mm</th>\n",
       "      <th>flipper_length_mm</th>\n",
       "      <th>body_mass_g</th>\n",
       "      <th>sex</th>\n",
       "    </tr>\n",
       "  </thead>\n",
       "  <tbody>\n",
       "    <tr>\n",
       "      <th>0</th>\n",
       "      <td>39.1</td>\n",
       "      <td>18.7</td>\n",
       "      <td>181.0</td>\n",
       "      <td>3750.0</td>\n",
       "      <td>MALE</td>\n",
       "    </tr>\n",
       "    <tr>\n",
       "      <th>1</th>\n",
       "      <td>39.5</td>\n",
       "      <td>17.4</td>\n",
       "      <td>186.0</td>\n",
       "      <td>3800.0</td>\n",
       "      <td>FEMALE</td>\n",
       "    </tr>\n",
       "    <tr>\n",
       "      <th>2</th>\n",
       "      <td>40.3</td>\n",
       "      <td>18.0</td>\n",
       "      <td>195.0</td>\n",
       "      <td>3250.0</td>\n",
       "      <td>FEMALE</td>\n",
       "    </tr>\n",
       "    <tr>\n",
       "      <th>3</th>\n",
       "      <td>36.7</td>\n",
       "      <td>19.3</td>\n",
       "      <td>193.0</td>\n",
       "      <td>3450.0</td>\n",
       "      <td>FEMALE</td>\n",
       "    </tr>\n",
       "    <tr>\n",
       "      <th>4</th>\n",
       "      <td>39.3</td>\n",
       "      <td>20.6</td>\n",
       "      <td>190.0</td>\n",
       "      <td>3650.0</td>\n",
       "      <td>MALE</td>\n",
       "    </tr>\n",
       "  </tbody>\n",
       "</table>\n",
       "</div>"
      ],
      "text/plain": [
       "   culmen_length_mm  culmen_depth_mm  flipper_length_mm  body_mass_g     sex\n",
       "0              39.1             18.7              181.0       3750.0    MALE\n",
       "1              39.5             17.4              186.0       3800.0  FEMALE\n",
       "2              40.3             18.0              195.0       3250.0  FEMALE\n",
       "3              36.7             19.3              193.0       3450.0  FEMALE\n",
       "4              39.3             20.6              190.0       3650.0    MALE"
      ]
     },
     "execution_count": 3,
     "metadata": {},
     "output_type": "execute_result"
    }
   ],
   "source": [
    "# Loading and examining the dataset\n",
    "penguins_df = pd.read_csv(\"penguins.csv\")\n",
    "penguins_df.head()"
   ]
  },
  {
   "cell_type": "code",
   "execution_count": 17,
   "id": "923d7389-9594-43ee-ba05-799cfe8eba60",
   "metadata": {
    "executionCancelledAt": null,
    "executionTime": 53,
    "lastExecutedAt": 1720308226372,
    "lastExecutedByKernel": "884982a2-301f-4ff9-bd3f-a02033848c69",
    "lastScheduledRunId": null,
    "lastSuccessfullyExecutedCode": "# columns \n\npenguins_df.info()",
    "outputsMetadata": {
     "0": {
      "height": 269,
      "type": "stream"
     }
    }
   },
   "outputs": [
    {
     "name": "stdout",
     "output_type": "stream",
     "text": [
      "<class 'pandas.core.frame.DataFrame'>\n",
      "RangeIndex: 332 entries, 0 to 331\n",
      "Data columns (total 5 columns):\n",
      " #   Column             Non-Null Count  Dtype  \n",
      "---  ------             --------------  -----  \n",
      " 0   culmen_length_mm   332 non-null    float64\n",
      " 1   culmen_depth_mm    332 non-null    float64\n",
      " 2   flipper_length_mm  332 non-null    float64\n",
      " 3   body_mass_g        332 non-null    float64\n",
      " 4   sex                332 non-null    object \n",
      "dtypes: float64(4), object(1)\n",
      "memory usage: 13.1+ KB\n"
     ]
    }
   ],
   "source": [
    "# columns \n",
    "penguins_df.info()"
   ]
  },
  {
   "cell_type": "code",
   "execution_count": 4,
   "id": "62ce4488",
   "metadata": {},
   "outputs": [
    {
     "data": {
      "text/html": [
       "<div>\n",
       "<style scoped>\n",
       "    .dataframe tbody tr th:only-of-type {\n",
       "        vertical-align: middle;\n",
       "    }\n",
       "\n",
       "    .dataframe tbody tr th {\n",
       "        vertical-align: top;\n",
       "    }\n",
       "\n",
       "    .dataframe thead th {\n",
       "        text-align: right;\n",
       "    }\n",
       "</style>\n",
       "<table border=\"1\" class=\"dataframe\">\n",
       "  <thead>\n",
       "    <tr style=\"text-align: right;\">\n",
       "      <th></th>\n",
       "      <th>culmen_length_mm</th>\n",
       "      <th>culmen_depth_mm</th>\n",
       "      <th>flipper_length_mm</th>\n",
       "      <th>body_mass_g</th>\n",
       "    </tr>\n",
       "  </thead>\n",
       "  <tbody>\n",
       "    <tr>\n",
       "      <th>count</th>\n",
       "      <td>332.000000</td>\n",
       "      <td>332.000000</td>\n",
       "      <td>332.000000</td>\n",
       "      <td>332.000000</td>\n",
       "    </tr>\n",
       "    <tr>\n",
       "      <th>mean</th>\n",
       "      <td>44.021084</td>\n",
       "      <td>17.153012</td>\n",
       "      <td>200.975904</td>\n",
       "      <td>4206.475904</td>\n",
       "    </tr>\n",
       "    <tr>\n",
       "      <th>std</th>\n",
       "      <td>5.452462</td>\n",
       "      <td>1.960275</td>\n",
       "      <td>14.035971</td>\n",
       "      <td>806.361278</td>\n",
       "    </tr>\n",
       "    <tr>\n",
       "      <th>min</th>\n",
       "      <td>32.100000</td>\n",
       "      <td>13.100000</td>\n",
       "      <td>172.000000</td>\n",
       "      <td>2700.000000</td>\n",
       "    </tr>\n",
       "    <tr>\n",
       "      <th>25%</th>\n",
       "      <td>39.500000</td>\n",
       "      <td>15.600000</td>\n",
       "      <td>190.000000</td>\n",
       "      <td>3550.000000</td>\n",
       "    </tr>\n",
       "    <tr>\n",
       "      <th>50%</th>\n",
       "      <td>44.700000</td>\n",
       "      <td>17.300000</td>\n",
       "      <td>197.000000</td>\n",
       "      <td>4025.000000</td>\n",
       "    </tr>\n",
       "    <tr>\n",
       "      <th>75%</th>\n",
       "      <td>48.625000</td>\n",
       "      <td>18.700000</td>\n",
       "      <td>213.000000</td>\n",
       "      <td>4781.250000</td>\n",
       "    </tr>\n",
       "    <tr>\n",
       "      <th>max</th>\n",
       "      <td>59.600000</td>\n",
       "      <td>21.500000</td>\n",
       "      <td>231.000000</td>\n",
       "      <td>6300.000000</td>\n",
       "    </tr>\n",
       "  </tbody>\n",
       "</table>\n",
       "</div>"
      ],
      "text/plain": [
       "       culmen_length_mm  culmen_depth_mm  flipper_length_mm  body_mass_g\n",
       "count        332.000000       332.000000         332.000000   332.000000\n",
       "mean          44.021084        17.153012         200.975904  4206.475904\n",
       "std            5.452462         1.960275          14.035971   806.361278\n",
       "min           32.100000        13.100000         172.000000  2700.000000\n",
       "25%           39.500000        15.600000         190.000000  3550.000000\n",
       "50%           44.700000        17.300000         197.000000  4025.000000\n",
       "75%           48.625000        18.700000         213.000000  4781.250000\n",
       "max           59.600000        21.500000         231.000000  6300.000000"
      ]
     },
     "execution_count": 4,
     "metadata": {},
     "output_type": "execute_result"
    }
   ],
   "source": [
    "# Description of the dataset \n",
    "penguins_df.describe()"
   ]
  },
  {
   "cell_type": "code",
   "execution_count": 7,
   "id": "0831b7c4-a30d-48f2-9c0b-c50ed8502059",
   "metadata": {
    "executionCancelledAt": null,
    "executionTime": 52,
    "lastExecutedAt": 1720308226424,
    "lastExecutedByKernel": "884982a2-301f-4ff9-bd3f-a02033848c69",
    "lastScheduledRunId": null,
    "lastSuccessfullyExecutedCode": "# DUmmy variables \n\npenguins_df = pd.get_dummies(penguins_df, dtype='int')\n\nprint(penguins_df) \n\nprint(penguins_df.info())",
    "outputsMetadata": {
     "0": {
      "height": 605,
      "type": "stream"
     }
    }
   },
   "outputs": [
    {
     "name": "stdout",
     "output_type": "stream",
     "text": [
      "<class 'pandas.core.frame.DataFrame'>\n",
      "RangeIndex: 332 entries, 0 to 331\n",
      "Data columns (total 6 columns):\n",
      " #   Column             Non-Null Count  Dtype  \n",
      "---  ------             --------------  -----  \n",
      " 0   culmen_length_mm   332 non-null    float64\n",
      " 1   culmen_depth_mm    332 non-null    float64\n",
      " 2   flipper_length_mm  332 non-null    float64\n",
      " 3   body_mass_g        332 non-null    float64\n",
      " 4   sex_FEMALE         332 non-null    int32  \n",
      " 5   sex_MALE           332 non-null    int32  \n",
      "dtypes: float64(4), int32(2)\n",
      "memory usage: 13.1 KB\n",
      "None\n"
     ]
    }
   ],
   "source": [
    "# Get dummy variables \n",
    "penguins_df = pd.get_dummies(penguins_df, dtype='int')\n",
    "print(penguins_df.info())"
   ]
  },
  {
   "cell_type": "code",
   "execution_count": 8,
   "id": "a7c0ca56-9630-429f-874c-7ceb007748c2",
   "metadata": {
    "executionCancelledAt": null,
    "executionTime": 55,
    "lastExecutedAt": 1720308226479,
    "lastExecutedByKernel": "884982a2-301f-4ff9-bd3f-a02033848c69",
    "lastScheduledRunId": null,
    "lastSuccessfullyExecutedCode": "# Exploring for variance \n\nprint(penguins_df.var())",
    "outputsMetadata": {
     "0": {
      "height": 164,
      "type": "stream"
     }
    }
   },
   "outputs": [
    {
     "name": "stdout",
     "output_type": "stream",
     "text": [
      "culmen_length_mm         29.729343\n",
      "culmen_depth_mm           3.842680\n",
      "flipper_length_mm       197.008481\n",
      "body_mass_g          650218.509992\n",
      "sex_FEMALE                0.250746\n",
      "sex_MALE                  0.250746\n",
      "dtype: float64\n"
     ]
    }
   ],
   "source": [
    "# Exploring for variance \n",
    "print(penguins_df.var())"
   ]
  },
  {
   "cell_type": "code",
   "execution_count": 13,
   "id": "293072fd",
   "metadata": {},
   "outputs": [
    {
     "data": {
      "text/plain": [
       "array([[ 7.18189662,  9.55387505, 12.91490329,  4.65754059,  0.        ,\n",
       "         2.00003629],\n",
       "       [ 7.25536871,  8.88970192, 13.27166858,  4.71964113,  2.00003629,\n",
       "         0.        ],\n",
       "       [ 7.40231288,  9.19624337, 13.91384609,  4.03653518,  2.00003629,\n",
       "         0.        ],\n",
       "       ...,\n",
       "       [ 9.25748311,  8.02116783, 15.84037863,  7.14156224,  0.        ,\n",
       "         2.00003629],\n",
       "       [ 8.30234596,  7.56135566, 15.12684806,  6.45845628,  2.00003629,\n",
       "         0.        ],\n",
       "       [ 9.165643  ,  8.22552879, 15.19820111,  6.70685845,  0.        ,\n",
       "         2.00003629]])"
      ]
     },
     "execution_count": 13,
     "metadata": {},
     "output_type": "execute_result"
    }
   ],
   "source": [
    "# Normalize the data with whiten method \n",
    "\n",
    "whitened_data = whiten(penguins_df.values)\n",
    "whitened_data"
   ]
  },
  {
   "cell_type": "code",
   "execution_count": 15,
   "id": "a9f8e00c",
   "metadata": {},
   "outputs": [
    {
     "data": {
      "text/html": [
       "<div>\n",
       "<style scoped>\n",
       "    .dataframe tbody tr th:only-of-type {\n",
       "        vertical-align: middle;\n",
       "    }\n",
       "\n",
       "    .dataframe tbody tr th {\n",
       "        vertical-align: top;\n",
       "    }\n",
       "\n",
       "    .dataframe thead th {\n",
       "        text-align: right;\n",
       "    }\n",
       "</style>\n",
       "<table border=\"1\" class=\"dataframe\">\n",
       "  <thead>\n",
       "    <tr style=\"text-align: right;\">\n",
       "      <th></th>\n",
       "      <th>culmen_length_mm</th>\n",
       "      <th>culmen_depth_mm</th>\n",
       "      <th>flipper_length_mm</th>\n",
       "      <th>body_mass_g</th>\n",
       "      <th>sex_FEMALE</th>\n",
       "      <th>sex_MALE</th>\n",
       "    </tr>\n",
       "  </thead>\n",
       "  <tbody>\n",
       "    <tr>\n",
       "      <th>count</th>\n",
       "      <td>332.000000</td>\n",
       "      <td>332.000000</td>\n",
       "      <td>332.000000</td>\n",
       "      <td>332.000000</td>\n",
       "      <td>332.000000</td>\n",
       "      <td>332.000000</td>\n",
       "    </tr>\n",
       "    <tr>\n",
       "      <th>mean</th>\n",
       "      <td>8.085802</td>\n",
       "      <td>8.763515</td>\n",
       "      <td>14.340245</td>\n",
       "      <td>5.224489</td>\n",
       "      <td>0.993994</td>\n",
       "      <td>1.006042</td>\n",
       "    </tr>\n",
       "    <tr>\n",
       "      <th>std</th>\n",
       "      <td>1.001509</td>\n",
       "      <td>1.001509</td>\n",
       "      <td>1.001509</td>\n",
       "      <td>1.001509</td>\n",
       "      <td>1.001509</td>\n",
       "      <td>1.001509</td>\n",
       "    </tr>\n",
       "    <tr>\n",
       "      <th>min</th>\n",
       "      <td>5.896135</td>\n",
       "      <td>6.692822</td>\n",
       "      <td>12.272726</td>\n",
       "      <td>3.353429</td>\n",
       "      <td>0.000000</td>\n",
       "      <td>0.000000</td>\n",
       "    </tr>\n",
       "    <tr>\n",
       "      <th>25%</th>\n",
       "      <td>7.255369</td>\n",
       "      <td>7.970078</td>\n",
       "      <td>13.557081</td>\n",
       "      <td>4.409138</td>\n",
       "      <td>0.000000</td>\n",
       "      <td>0.000000</td>\n",
       "    </tr>\n",
       "    <tr>\n",
       "      <th>50%</th>\n",
       "      <td>8.210506</td>\n",
       "      <td>8.838612</td>\n",
       "      <td>14.056552</td>\n",
       "      <td>4.999094</td>\n",
       "      <td>0.000000</td>\n",
       "      <td>2.000036</td>\n",
       "    </tr>\n",
       "    <tr>\n",
       "      <th>75%</th>\n",
       "      <td>8.931451</td>\n",
       "      <td>9.553875</td>\n",
       "      <td>15.198201</td>\n",
       "      <td>5.938364</td>\n",
       "      <td>2.000036</td>\n",
       "      <td>2.000036</td>\n",
       "    </tr>\n",
       "    <tr>\n",
       "      <th>max</th>\n",
       "      <td>10.947341</td>\n",
       "      <td>10.984402</td>\n",
       "      <td>16.482556</td>\n",
       "      <td>7.824668</td>\n",
       "      <td>2.000036</td>\n",
       "      <td>2.000036</td>\n",
       "    </tr>\n",
       "  </tbody>\n",
       "</table>\n",
       "</div>"
      ],
      "text/plain": [
       "       culmen_length_mm  culmen_depth_mm  flipper_length_mm  body_mass_g  \\\n",
       "count        332.000000       332.000000         332.000000   332.000000   \n",
       "mean           8.085802         8.763515          14.340245     5.224489   \n",
       "std            1.001509         1.001509           1.001509     1.001509   \n",
       "min            5.896135         6.692822          12.272726     3.353429   \n",
       "25%            7.255369         7.970078          13.557081     4.409138   \n",
       "50%            8.210506         8.838612          14.056552     4.999094   \n",
       "75%            8.931451         9.553875          15.198201     5.938364   \n",
       "max           10.947341        10.984402          16.482556     7.824668   \n",
       "\n",
       "       sex_FEMALE    sex_MALE  \n",
       "count  332.000000  332.000000  \n",
       "mean     0.993994    1.006042  \n",
       "std      1.001509    1.001509  \n",
       "min      0.000000    0.000000  \n",
       "25%      0.000000    0.000000  \n",
       "50%      0.000000    2.000036  \n",
       "75%      2.000036    2.000036  \n",
       "max      2.000036    2.000036  "
      ]
     },
     "execution_count": 15,
     "metadata": {},
     "output_type": "execute_result"
    }
   ],
   "source": [
    "# Convert normalized data to a DataFrame\n",
    "\n",
    "penguins_norm = pd.DataFrame(whitened_data, columns=penguins_df.columns)\n",
    "penguins_norm.describe()    "
   ]
  },
  {
   "cell_type": "code",
   "execution_count": 20,
   "id": "06fbcbfe",
   "metadata": {},
   "outputs": [],
   "source": [
    "# Create distance matrix \n",
    "distance_matrix = linkage(penguins_norm, method='ward', metric = 'euclidean')"
   ]
  },
  {
   "cell_type": "code",
   "execution_count": 21,
   "id": "ffb8632a",
   "metadata": {},
   "outputs": [
    {
     "data": {
      "image/png": "[encoded data removed]",
      "text/plain": [
       "<Figure size 640x480 with 1 Axes>"
      ]
     },
     "metadata": {},
     "output_type": "display_data"
    }
   ],
   "source": [
    "# Visualizing clusters with dendrogram\n",
    "dn = dendrogram(distance_matrix)\n",
    "plt.show()"
   ]
  },
  {
   "cell_type": "code",
   "execution_count": 22,
   "id": "4cd83a5b",
   "metadata": {},
   "outputs": [
    {
     "name": "stdout",
     "output_type": "stream",
     "text": [
      "cluster_labels\n",
      "3    107\n",
      "4    106\n",
      "2     61\n",
      "1     58\n",
      "Name: count, dtype: int64\n"
     ]
    }
   ],
   "source": [
    "# Assign cluster labels\n",
    "penguins_norm['cluster_labels'] = fcluster(distance_matrix, 4, criterion='maxclust')\n",
    "print(penguins_norm['cluster_labels'].value_counts())"
   ]
  },
  {
   "cell_type": "code",
   "execution_count": 26,
   "id": "f1b59b81-e69b-4c81-b350-6127d7293f2c",
   "metadata": {
    "executionCancelledAt": null,
    "executionTime": 220,
    "lastExecutedAt": 1720308227164,
    "lastExecutedByKernel": "884982a2-301f-4ff9-bd3f-a02033848c69",
    "lastScheduledRunId": null,
    "lastSuccessfullyExecutedCode": "# Visualize Clusters \n\nplt.scatter(penguins_df['label'], penguins_df['culmen_length_mm'], c=kmeans.labels_, cmap='viridis') \nplt.xlabel('Cluster') \nplt.ylabel('culmen_length_mm')\nplt.xticks(range(int(penguins_df['label'].min()), int(penguins_df['label'].max()) + 1)) \nplt.title(f'K-Means Clustering (K={n_clusters})') \nplt.show()"
   },
   "outputs": [
    {
     "name": "stderr",
     "output_type": "stream",
     "text": [
      "C:\\Users\\davic\\AppData\\Local\\Temp\\ipykernel_28756\\2037982904.py:2: UserWarning: No data for colormapping provided via 'c'. Parameters 'cmap' will be ignored\n",
      "  plt.scatter(penguins_norm['cluster_labels'], penguins_norm['culmen_length_mm'], cmap='viridis')\n"
     ]
    },
    {
     "data": {
      "image/png": "[encoded data removed]",
      "text/plain": [
       "<Figure size 640x480 with 1 Axes>"
      ]
     },
     "metadata": {},
     "output_type": "display_data"
    }
   ],
   "source": [
    "# Visualize Clusters \n",
    "plt.scatter(penguins_norm['cluster_labels'], penguins_norm['culmen_length_mm'], cmap='viridis') \n",
    "plt.xlabel('Cluster') \n",
    "plt.ylabel('culmen_length_mm') \n",
    "plt.title(f'Hierarchical Clustering of Penguins') \n",
    "plt.show()"
   ]
  }
 ],
 "metadata": {
  "colab": {
   "name": "Welcome to DataCamp Workspaces.ipynb",
   "provenance": []
  },
  "editor": "DataLab",
  "kernelspec": {
   "display_name": "Python 3",
   "language": "python",
   "name": "python3"
  },
  "language_info": {
   "codemirror_mode": {
    "name": "ipython",
    "version": 3
   },
   "file_extension": ".py",
   "mimetype": "text/x-python",
   "name": "python",
   "nbconvert_exporter": "python",
   "pygments_lexer": "ipython3",
   "version": "3.12.8"
  }
 },
 "nbformat": 4,
 "nbformat_minor": 5
}
